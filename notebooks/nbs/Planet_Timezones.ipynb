{
  "cells": [
    {
      "cell_type": "markdown",
      "metadata": {
        "id": "2KtdvuLYSCCx"
      },
      "source": [
        "# Planetary Timezones\n",
        "If Humanity ever colonizes another planet, two things are certain- we're going to want to talk to them, and we're going to want to sell things to them. The problem is, how are we going to do that if we can't agree on what time it is?\n",
        "\n",
        "We first ran into this problem in the mid-19th century with Railroads. Until then every town ran on Solar Time (i.e. Position of the sun at that town's specific location)- which made it incredibly hard to manage train schedules. Each town would be a few minutes off of the other, and so you'd have to adjust each train's schedule based on what station you're at. Additionally passengers would have to constantly adjust their clocks/watches based on their location. \n",
        "\n",
        "Nowadays, we could probably manage to make Solar Time work- digital clocks and logistics software solves these issues. Even then it would still be a feat in itself to make it work at scale, but I think we could.\n",
        "\n",
        "This works at the scale of Earth so long that we can all roughly agree on what a Day is. This works most of the time, but falls apart at the poles- which is fine because there aren't a whole lot of people on the poles. But this system falls apart when we start thinking about other planets- which we haven't had to do until rather recently. "
      ]
    },
    {
      "cell_type": "markdown",
      "metadata": {},
      "source": [
        "**Assumptions & Goals**\n",
        "\n",
        "We need to consider what the needs of an interplanetary society will look like, which requires us to make some key assumptions that we base everything else off of. Here are the assumptions I'm making:\n",
        " - Communication is instant\n",
        "      - (Any system that is robust to instant communication should work for real communication with real latency)\n",
        " - We can colonize on practically any planet provided that has something resembling a solar cycle\n",
        " - We can build habitable space stations anywhere, including empty space\n",
        "      - We'll assume Habitable Space Stations are capable of having artificial & configurable \"solar\" cycles. We'll call this solar time in this case\n",
        "\n",
        "With these assumptions, we also need to know what we're actually trying to achieve with any timezone system:\n",
        " - The written time must roughly align with solar time at any given location.\n",
        " - The relation between written time and solar time must be somewhat consistent\n",
        " - It must be easy to communicate the current time at any location to a person at a different location\n",
        " - There must be some form of Universal Reference Time (like UTC on Earth)\n",
        "      - While other time formats must be intuitive for humans, the Universal Reference doesn't have to be."
      ]
    },
    {
      "cell_type": "code",
      "execution_count": 14,
      "metadata": {},
      "outputs": [
        {
          "name": "stdout",
          "output_type": "stream",
          "text": [
            "Self Tangent: 464.95619999999997\n",
            "Orbit Tangent: 29770.399999999998\n",
            "Relative Velocity: 222005.61456960478\n",
            "Time Dilation (w.r.t Galaxy): 1.0000002741932084\n"
          ]
        }
      ],
      "source": [
        "\n",
        "import numpy as np\n",
        "\n",
        "# Parameters of a planet (Initialized for Earth)\n",
        "system_velocity = 2.2e+5 # m/s; velocity of the entire solar system\n",
        "planet_mass = 5.97e+24 # kg\n",
        "planet_radius = 6.378e+6 # m\n",
        "orbit_radius = 1 # AU\n",
        "self_angular_velocity = 7.29e-5 # rad / s\n",
        "orbit_angular_velocity = 1.99e-7\n",
        "axial_tilt = np.radians(23.5) # rad\n",
        "\n",
        "AU_to_m = 1.496e+11\n",
        "self_tangent_velocity = planet_radius * self_angular_velocity # m / s\n",
        "orbit_tangent_velocity = orbit_radius * AU_to_m * orbit_angular_velocity # m / s\n",
        "\n",
        "C = 299792458\n",
        "relative_velocity = (self_tangent_velocity**2 + orbit_tangent_velocity**2 + system_velocity**2)**0.5\n",
        "time_dilation = 1 / (1 - (relative_velocity / C)**2)**0.5\n",
        "\n",
        "print(f\"Self Tangent: {self_tangent_velocity}\")\n",
        "print(f\"Orbit Tangent: {orbit_tangent_velocity}\")\n",
        "print(f\"Relative Velocity: {relative_velocity}\")\n",
        "print(f\"Time Dilation (w.r.t Galaxy): {time_dilation}\")"
      ]
    },
    {
      "cell_type": "code",
      "execution_count": 15,
      "metadata": {},
      "outputs": [
        {
          "name": "stdout",
          "output_type": "stream",
          "text": [
            "Day Length (in Hours): 24.006949725510374\n",
            "Year Length (in Current Planet Days): 365.3316582914573\n",
            "In Galactic Seconds:\n",
            "Day Length (in Hours): 24.006943142969607\n",
            "Year Length (in Current Planet Days): 365.33155812002525\n"
          ]
        }
      ],
      "source": [
        "# Orbital and rotational periods\n",
        "orbital_period = 2 * np.pi / orbit_angular_velocity  # Seconds\n",
        "len_sidereal_day = 2 * np.pi / self_angular_velocity  # Seconds\n",
        "len_solar_day = 1 / (1 / len_sidereal_day - 1 / orbital_period)  # Seconds\n",
        "\n",
        "# Adjusted for galactic reference point\n",
        "len_solar_day_galactic = len_solar_day / time_dilation\n",
        "len_year_galactic = orbital_period / time_dilation\n",
        "\n",
        "print(f\"Day Length (in Hours): {len_solar_day / 3600}\")\n",
        "print(f\"Year Length (in Current Planet Days): {orbital_period / len_solar_day}\")\n",
        "\n",
        "print(\"In Galactic Seconds:\")\n",
        "print(f\"Day Length (in Hours): {len_solar_day_galactic / 3600}\")\n",
        "print(f\"Year Length (in Current Planet Days): {len_year_galactic / len_solar_day}\")"
      ]
    },
    {
      "cell_type": "markdown",
      "metadata": {},
      "source": [
        "One initial idea might be to standardize some form of \"Galactic Calendar\", and adjust every planet's time cycle to align with it. This would be at least somewhat feasible since time dilation relative to some Galactic Reference Point is likely to stay miniscule- any body moving fast enough to experience significant time dilation probably doesn't have enough people to warrant changing the whole system for that case. \n",
        "\n",
        "While tempting, it's like throwing away earth timezones and declaring UTC to be the only timezone. In a lot of ways it would make life easier, but then 11PM is morning for some people while it's night for others. It also violates one of our goals- that the written time should align somewhat with solar time."
      ]
    },
    {
      "cell_type": "markdown",
      "metadata": {},
      "source": []
    }
  ],
  "metadata": {
    "colab": {
      "provenance": []
    },
    "kernelspec": {
      "display_name": "venv",
      "language": "python",
      "name": "python3"
    },
    "language_info": {
      "codemirror_mode": {
        "name": "ipython",
        "version": 3
      },
      "file_extension": ".py",
      "mimetype": "text/x-python",
      "name": "python",
      "nbconvert_exporter": "python",
      "pygments_lexer": "ipython3",
      "version": "3.11.2"
    }
  },
  "nbformat": 4,
  "nbformat_minor": 0
}
