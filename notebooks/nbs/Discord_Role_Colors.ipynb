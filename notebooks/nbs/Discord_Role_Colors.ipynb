{
  "cells": [
    {
      "cell_type": "markdown",
      "metadata": {
        "id": "2KtdvuLYSCCx"
      },
      "source": [
        "# Discord Role Color Selection\n",
        "I was setting up a Discord server not too long ago with some friends, and when all the important things were done, we had to assign colors to the different roles in the server sturcture. These are just colors that are applied to people's usernames, primarily for aesthetic and (in some cases) organizational purpose.\n",
        "\n",
        "Nothing stops you from picking any color for a specific role, but I think there's a couple reasonable requirements for any role color;\n",
        "- Roles should contrast well against Dark & Light mode backgrounds\n",
        "- Roles should contrast well against other roles\n",
        "- Roles should be distinguishable for colorblind people of all types\n",
        "- Roles should be colors that are nice to look at; nobody wants to be vomit-colored\n",
        "\n",
        "The last requirement is very hard to quantify, but the first two are pretty objective measures, all things considered. So, I thought, surely it couldn't be *that* hard to optimize."
      ]
    },
    {
      "cell_type": "code",
      "execution_count": null,
      "metadata": {
        "id": "sZE1US0EFjHv"
      },
      "outputs": [],
      "source": [
        "! pip install coloraide\n",
        "! pip install scikit-optimize\n",
        "from coloraide import Color\n",
        "import numpy as np\n",
        "import itertools\n",
        "from tqdm import tqdm\n",
        "import pandas as pd\n",
        "from sklearn.preprocessing import MinMaxScaler\n",
        "import plotly.express as px"
      ]
    },
    {
      "cell_type": "markdown",
      "metadata": {
        "id": "xNvsYQCuUd73"
      },
      "source": [
        "I could display colors as just hex codes, but I didn't want to have to grab the hex code and copy it into an editor every time I wanted to see a color. So I went on a side mission to figure out how to display colors in notebooks, and found out it's possible to inject HTML directly into a notebook with IPython!"
      ]
    },
    {
      "cell_type": "code",
      "execution_count": 2,
      "metadata": {
        "id": "1jRUoWCyHq9K"
      },
      "outputs": [],
      "source": [
        "from IPython.display import HTML\n",
        "from typing import Literal\n",
        "def print_color(color: Color, format: Literal['hex', 'rgb', 'oklch'] = 'hex', additional_text=\"\"):\n",
        "  match format:\n",
        "    case 'hex':\n",
        "      c = color.fit('srgb').convert('srgb').to_string(hex=True)\n",
        "    case 'rgb':\n",
        "      c = color.fit('srgb').convert('srgb').to_string()\n",
        "    case 'oklch':\n",
        "      c = color.to_string()\n",
        "  display(HTML(f'<span style=\"color:{c}; background-color:#313338; padding-inline:10px\">{c}{additional_text}</span>'))"
      ]
    },
    {
      "cell_type": "markdown",
      "metadata": {
        "id": "g0rO-UcMobs_"
      },
      "source": [
        "Of course, we need to define all the colors that a new color needs to contrast against. So here I've listed a bunch of colors- most of these are role colors, and at the end we have a couple colors that match the background color used in Discord's layout.\n",
        "\n",
        "Conveniently, this is also a really good way to show off the color display:"
      ]
    },
    {
      "cell_type": "code",
      "execution_count": 6,
      "metadata": {
        "id": "59TnxGxwxQiH"
      },
      "outputs": [],
      "source": [
        "colors = []\n",
        "role_colors = [\n",
        "  \"#000000\",\n",
        "  \"#b20f95\",\n",
        "  \"#2800ec\",\n",
        "  \"#530000\",\n",
        "  \"#05ffeb\",\n",
        "  \"#ca0000\",\n",
        "  \"#269d62\",\n",
        "  \"#ff678f\",\n",
        "  \"#7a2cc9\",\n",
        "  \"#E74C3C\",\n",
        "  \"#61FA94\",\n",
        "  \"#E000FF\",\n",
        "  \"#E5A400\",\n",
        "  \"#B17FB8\",\n",
        "  \"#43C0FF\",\n",
        "  '#313338', # Darkmode Background\n",
        "  \"#2B2D31\", # ^\n",
        "  \"#FFFFFF\"  # Whitemode Background\n",
        "]\n",
        "for hex in role_colors:\n",
        "  color = Color(hex).convert(\"oklch\")\n",
        "  colors.append(color)"
      ]
    },
    {
      "cell_type": "code",
      "execution_count": 7,
      "metadata": {
        "colab": {
          "base_uri": "https://localhost:8080/",
          "height": 330
        },
        "id": "6pi6V7i1IF7N",
        "outputId": "1701099d-668f-4b64-cb5d-86c7f423adbd"
      },
      "outputs": [
        {
          "data": {
            "text/html": [
              "<span style=\"color:oklch(0 0 0); background-color:#313338; padding-inline:10px\">oklch(0 0 0)</span>"
            ],
            "text/plain": [
              "<IPython.core.display.HTML object>"
            ]
          },
          "metadata": {},
          "output_type": "display_data"
        },
        {
          "data": {
            "text/html": [
              "<span style=\"color:oklch(0.52279 0.22235 337.84); background-color:#313338; padding-inline:10px\">oklch(0.52279 0.22235 337.84)</span>"
            ],
            "text/plain": [
              "<IPython.core.display.HTML object>"
            ]
          },
          "metadata": {},
          "output_type": "display_data"
        },
        {
          "data": {
            "text/html": [
              "<span style=\"color:oklch(0.43679 0.28828 269.21); background-color:#313338; padding-inline:10px\">oklch(0.43679 0.28828 269.21)</span>"
            ],
            "text/plain": [
              "<IPython.core.display.HTML object>"
            ]
          },
          "metadata": {},
          "output_type": "display_data"
        },
        {
          "data": {
            "text/html": [
              "<span style=\"color:oklch(0.27772 0.11396 29.234); background-color:#313338; padding-inline:10px\">oklch(0.27772 0.11396 29.234)</span>"
            ],
            "text/plain": [
              "<IPython.core.display.HTML object>"
            ]
          },
          "metadata": {},
          "output_type": "display_data"
        },
        {
          "data": {
            "text/html": [
              "<span style=\"color:oklch(0.89917 0.15827 184.78); background-color:#313338; padding-inline:10px\">oklch(0.89917 0.15827 184.78)</span>"
            ],
            "text/plain": [
              "<IPython.core.display.HTML object>"
            ]
          },
          "metadata": {},
          "output_type": "display_data"
        },
        {
          "data": {
            "text/html": [
              "<span style=\"color:oklch(0.52686 0.2162 29.234); background-color:#313338; padding-inline:10px\">oklch(0.52686 0.2162 29.234)</span>"
            ],
            "text/plain": [
              "<IPython.core.display.HTML object>"
            ]
          },
          "metadata": {},
          "output_type": "display_data"
        },
        {
          "data": {
            "text/html": [
              "<span style=\"color:oklch(0.61755 0.13614 156.25); background-color:#313338; padding-inline:10px\">oklch(0.61755 0.13614 156.25)</span>"
            ],
            "text/plain": [
              "<IPython.core.display.HTML object>"
            ]
          },
          "metadata": {},
          "output_type": "display_data"
        },
        {
          "data": {
            "text/html": [
              "<span style=\"color:oklch(0.71469 0.18728 6.8758); background-color:#313338; padding-inline:10px\">oklch(0.71469 0.18728 6.8758)</span>"
            ],
            "text/plain": [
              "<IPython.core.display.HTML object>"
            ]
          },
          "metadata": {},
          "output_type": "display_data"
        },
        {
          "data": {
            "text/html": [
              "<span style=\"color:oklch(0.49456 0.22311 300.74); background-color:#313338; padding-inline:10px\">oklch(0.49456 0.22311 300.74)</span>"
            ],
            "text/plain": [
              "<IPython.core.display.HTML object>"
            ]
          },
          "metadata": {},
          "output_type": "display_data"
        },
        {
          "data": {
            "text/html": [
              "<span style=\"color:oklch(0.63068 0.19401 29.442); background-color:#313338; padding-inline:10px\">oklch(0.63068 0.19401 29.442)</span>"
            ],
            "text/plain": [
              "<IPython.core.display.HTML object>"
            ]
          },
          "metadata": {},
          "output_type": "display_data"
        },
        {
          "data": {
            "text/html": [
              "<span style=\"color:oklch(0.87936 0.19158 151.29); background-color:#313338; padding-inline:10px\">oklch(0.87936 0.19158 151.29)</span>"
            ],
            "text/plain": [
              "<IPython.core.display.HTML object>"
            ]
          },
          "metadata": {},
          "output_type": "display_data"
        },
        {
          "data": {
            "text/html": [
              "<span style=\"color:oklch(0.6559 0.31254 321.36); background-color:#313338; padding-inline:10px\">oklch(0.6559 0.31254 321.36)</span>"
            ],
            "text/plain": [
              "<IPython.core.display.HTML object>"
            ]
          },
          "metadata": {},
          "output_type": "display_data"
        },
        {
          "data": {
            "text/html": [
              "<span style=\"color:oklch(0.76092 0.15759 80.036); background-color:#313338; padding-inline:10px\">oklch(0.76092 0.15759 80.036)</span>"
            ],
            "text/plain": [
              "<IPython.core.display.HTML object>"
            ]
          },
          "metadata": {},
          "output_type": "display_data"
        },
        {
          "data": {
            "text/html": [
              "<span style=\"color:oklch(0.66567 0.09957 322.35); background-color:#313338; padding-inline:10px\">oklch(0.66567 0.09957 322.35)</span>"
            ],
            "text/plain": [
              "<IPython.core.display.HTML object>"
            ]
          },
          "metadata": {},
          "output_type": "display_data"
        },
        {
          "data": {
            "text/html": [
              "<span style=\"color:oklch(0.76614 0.14014 235.16); background-color:#313338; padding-inline:10px\">oklch(0.76614 0.14014 235.16)</span>"
            ],
            "text/plain": [
              "<IPython.core.display.HTML object>"
            ]
          },
          "metadata": {},
          "output_type": "display_data"
        },
        {
          "data": {
            "text/html": [
              "<span style=\"color:oklch(0.32107 0.00928 268.38); background-color:#313338; padding-inline:10px\">oklch(0.32107 0.00928 268.38)</span>"
            ],
            "text/plain": [
              "<IPython.core.display.HTML object>"
            ]
          },
          "metadata": {},
          "output_type": "display_data"
        },
        {
          "data": {
            "text/html": [
              "<span style=\"color:oklch(0.29674 0.00777 264.45); background-color:#313338; padding-inline:10px\">oklch(0.29674 0.00777 264.45)</span>"
            ],
            "text/plain": [
              "<IPython.core.display.HTML object>"
            ]
          },
          "metadata": {},
          "output_type": "display_data"
        },
        {
          "data": {
            "text/html": [
              "<span style=\"color:oklch(1 0 0); background-color:#313338; padding-inline:10px\">oklch(1 0 0)</span>"
            ],
            "text/plain": [
              "<IPython.core.display.HTML object>"
            ]
          },
          "metadata": {},
          "output_type": "display_data"
        }
      ],
      "source": [
        "for color in colors:\n",
        "  print_color(color, 'oklch')"
      ]
    },
    {
      "cell_type": "markdown",
      "metadata": {
        "id": "wP4Kw5imWzjn"
      },
      "source": [
        "So, how do we programmatically tell two colors apart?\n",
        "\n",
        "The most logical first step would be the Euclidean distance of two colors- this works, but it's not very *perceptually uniform*- meaning colors with a distance of 50 might look more or less similar depending on where in the color space they are."
      ]
    },
    {
      "cell_type": "markdown",
      "metadata": {
        "id": "fLuBWWENbDGz"
      },
      "source": [
        "People smarter than me have been working on this for a long time, and they came up with the OKLCH color space. OKLCH defines three axes to define any color:\n",
        "- Lightness (L): How bright a color is (0 = black, 1 = white)\n",
        "- Chroma (C): How strong or saturated a color is\n",
        "- Hue (H): The type of color (e.g., red, green, blue)\n",
        "\n",
        "It also defines certain limits on these based on what colors we can actually perceive, as well as what a screen can actually display. These axes are set up to be intuitive and perceptually uniform- so if we shift the hue of a color, it *only* changes the hue, without affecting how bright the color is, or how strong the color appears to be.\n",
        "\n",
        "You can see the more detailed explanation of why OKLCH is cool from [this article](https://evilmartians.com/chronicles/oklch-in-css-why-quit-rgb-hsl#comparing-oklch-with-other-css-color-formats).\n",
        "\n",
        "While OKLCH isn't perfect, it's much more perceptually uniform than most spaces. So, when we take the euclidean distance in this space, we get a much more reliable quantification of the difference between colors.\n",
        "\n",
        "That works pretty well, but we also need to account for colorblindness. Colorspacious has functionality for simulating colorblindness- no simulation is 100% accurate, but I don't have a colorblind person on hand to check this so this is the best I can do. For my purposes I'm checking the color differences assuming the maximum theoretical severity.\n",
        "\n",
        "We take the minimum distance between the two colors in the usual color gamut as well as the constricted gamuts for different colorblindness types to get a final measure of distance:"
      ]
    },
    {
      "cell_type": "code",
      "execution_count": 10,
      "metadata": {
        "colab": {
          "base_uri": "https://localhost:8080/"
        },
        "id": "82ebAc4z7Ymg",
        "outputId": "6463b4e1-2106-4a76-9a46-e39c94a9f48d"
      },
      "outputs": [
        {
          "data": {
            "text/plain": [
              "(0.0016645316755503356, 0.0)"
            ]
          },
          "execution_count": 10,
          "metadata": {},
          "output_type": "execute_result"
        }
      ],
      "source": [
        "# What the big explanation was about\n",
        "def color_diff(color1: Color, color2: Color):\n",
        "  diffs = [color1.delta_e(color2, method=\"ok\")] # Normal Vision\n",
        "  for filter in ['protan', 'deutan', 'tritan']: # Diff Colorlindness Types\n",
        "    color1_t = color1.filter(filter)\n",
        "    color2_t = color2.filter(filter)\n",
        "    diffs.append(color1_t.delta_e(color2_t, method=\"ok\"))\n",
        "  return min(diffs) / 100\n",
        "\n",
        "# Just a typical contrast ratio calculation, which gets scaled down for our purposes\n",
        "def contrast_ratio(color1: Color, color2: Color):\n",
        "  L1 = color1.convert(\"srgb\").luminance()\n",
        "  L2 = color1.convert(\"srgb\").luminance()\n",
        "\n",
        "  if L1 > L2:\n",
        "    ratio = (L1 + 0.05) / (L2 + 0.05)\n",
        "  else:\n",
        "    ratio = (L2 + 0.05) / (L1 + 0.05)\n",
        "\n",
        "  return (ratio - 1) / 20\n",
        "\n",
        "color_diff(colors[1], colors[2]), contrast_ratio(colors[1], colors[2])"
      ]
    },
    {
      "cell_type": "markdown",
      "metadata": {
        "id": "ht1nECo6xV2e"
      },
      "source": [
        "To determine the fitness of a specific color against the entire set of existing colors, we take all the distances and all the contrast ratios, take the minimum of each and add them together.\n",
        "\n",
        "Taking the minimum is important here- if it's far from one color but identical to another, that's just as bad as if it was indistinguishable from the entire set. (Though, that would be impressive in its own right to be fair)"
      ]
    },
    {
      "cell_type": "code",
      "execution_count": 13,
      "metadata": {
        "colab": {
          "base_uri": "https://localhost:8080/"
        },
        "id": "bOnVL8hY71Cc",
        "outputId": "ef575269-d07c-48ba-8d76-804744f5b78f"
      },
      "outputs": [
        {
          "name": "stdout",
          "output_type": "stream",
          "text": [
            "Existing Color -4.3422263169012155e-18\n",
            "Orange -0.0008815108035432732\n"
          ]
        }
      ],
      "source": [
        "def fitness(color: Color):\n",
        "  diffs = []\n",
        "  ratios = []\n",
        "  # Difference Between competing colors\n",
        "  for roleColor in colors:\n",
        "    diffs.append(color_diff(color, roleColor))\n",
        "    ratios.append(contrast_ratio(color, roleColor))\n",
        "\n",
        "  fitness = 5 * (min(diffs) + min(ratios))\n",
        "\n",
        "  return -fitness\n",
        "\n",
        "print(\"Existing Color\", fitness(Color(\"#2800EC\", space='oklch')))\n",
        "print(\"Orange\", fitness(Color(\"#FF8930\", space='oklch')))"
      ]
    },
    {
      "cell_type": "markdown",
      "metadata": {
        "id": "Gn_Fh3XzyPn4"
      },
      "source": [
        "Now that we have a way to measure the fitness of a given color, we can throw this into a Gaussian Process and get on our way. To do that though, we need to define some bounds.\n",
        "\n",
        "These are mostly just properties of OKLCH, but while we're doing this, we can define some limits to at least attempt to avoid \"ugly\" colors. Colors with a Chroma value under 0.1, or a Lightness value under 0.5, don't look that great to me, so we'll set those as minima."
      ]
    },
    {
      "cell_type": "code",
      "execution_count": 14,
      "metadata": {
        "id": "fqJ6UGn8AoL-"
      },
      "outputs": [],
      "source": [
        "from skopt import gp_minimize\n",
        "from skopt.space import Real\n",
        "from skopt.utils import use_named_args\n",
        "\n",
        "space  = [Real(0.5, 1, name='L'),\n",
        "          Real(0.1, 0.37, name='C'),\n",
        "          Real(0, 360, name='H')]\n",
        "\n",
        "@use_named_args(space)\n",
        "def objective_function(L, C, H):\n",
        "    # The color is \"fitted\" to the sRGB gamut but not actually converted- this\n",
        "    # guarantees that our color will be possible in sRGB space and viewable\n",
        "    # on basically any normal screen\n",
        "    color = Color('oklch', [L, C, H]).fit('srgb')\n",
        "    return fitness(color)\n",
        "\n",
        "def callback(res):\n",
        "  print(f\"Iteration {len(res.func_vals)}\")\n",
        "  print(f\" - OKLCH: {res.x}\")\n",
        "  color = Color('oklch', res.x).fit('srgb').convert('srgb')\n",
        "  print_color(color)\n",
        "  print(f\" - Fitness {res.fun}\")"
      ]
    },
    {
      "cell_type": "markdown",
      "metadata": {
        "id": "NJ6SaLQw0PZG"
      },
      "source": [
        "Before we optimize though, we can look at the actual state space, since this isn't an insanely complex problem that can't be visually represented. This also helps us ensure that this isn't just a matter of simply maxing out any one parameter."
      ]
    },
    {
      "cell_type": "code",
      "execution_count": null,
      "metadata": {
        "id": "ryGBSbm3uVdR"
      },
      "outputs": [],
      "source": [
        "resolution = 20\n",
        "x0 = []\n",
        "for dim in space:\n",
        "  x0.append(np.linspace(dim.low, dim.high, resolution))\n",
        "x0 = list(itertools.product(*x0))\n",
        "y0 = [objective_function(x) for x in tqdm(x0)]"
      ]
    },
    {
      "cell_type": "code",
      "execution_count": 16,
      "metadata": {
        "colab": {
          "base_uri": "https://localhost:8080/"
        },
        "id": "Hy6lqLIfzoWD",
        "outputId": "5471f064-faec-4b8d-eb95-3bcdd01f8520"
      },
      "outputs": [
        {
          "name": "stdout",
          "output_type": "stream",
          "text": [
            "Min (0.868421052631579, 0.24210526315789474, 94.73684210526315) -0.005338737394354273\n",
            "Max (0.9736842105263157, 0.2136842105263158, 170.52631578947367) -0.0\n"
          ]
        }
      ],
      "source": [
        "print(\"Min\", x0[y0.index(min(y0))], y0[y0.index(min(y0))])\n",
        "print(\"Max\", x0[y0.index(max(y0))], y0[y0.index(max(y0))])"
      ]
    },
    {
      "cell_type": "code",
      "execution_count": 19,
      "metadata": {
        "colab": {
          "base_uri": "https://localhost:8080/",
          "height": 52
        },
        "id": "ac1vX24Q6pGx",
        "outputId": "49496171-aeaf-496d-9dc9-3d5145a2c277"
      },
      "outputs": [
        {
          "data": {
            "text/html": [
              "<span style=\"color:oklch(0.86902 0.17774 91.799); background-color:#313338; padding-inline:10px\">oklch(0.86902 0.17774 91.799)</span>"
            ],
            "text/plain": [
              "<IPython.core.display.HTML object>"
            ]
          },
          "metadata": {},
          "output_type": "display_data"
        },
        {
          "name": "stdout",
          "output_type": "stream",
          "text": [
            "[0.8690218596047952, 0.17773790908815992, 91.79869951365293]\n"
          ]
        }
      ],
      "source": [
        "best_color = x0[y0.index(min(y0))]\n",
        "best_color = Color('oklch', best_color).fit('srgb')\n",
        "print_color(best_color, 'oklch')\n",
        "print(best_color.coords())"
      ]
    },
    {
      "cell_type": "code",
      "execution_count": null,
      "metadata": {
        "id": "7pPw_XfKxJ_Q"
      },
      "outputs": [],
      "source": [
        "x0_df = pd.DataFrame(x0, columns=['Lightness', 'Chroma', 'Hue'])\n",
        "# Create a 3D scatter plot\n",
        "fig = px.scatter_3d(\n",
        "    x0_df,\n",
        "    x='Hue',\n",
        "    y='Chroma',\n",
        "    z='Lightness',\n",
        "    color=[-y for y in y0],\n",
        "    title='3D Scatter Plot of Parameters',\n",
        "    labels={'Lightness': 'Lightness', 'Chroma': 'Chroma', 'Hue': 'Hue'},\n",
        "    color_continuous_scale='Viridis'  # You can choose a different color scale\n",
        ")\n",
        "\n",
        "fig.show()"
      ]
    },
    {
      "cell_type": "markdown",
      "metadata": {
        "id": "a-h1EULH2hx5"
      },
      "source": [
        "(Image attached because plotly shows a cool interactive thing, which I don't have implemented on the site)\n",
        "\n",
        "As we might expect, Hue has the biggest impact on the fitness of a color- unfortunately we can also see that it's very nonlinear and *weird* in a linear space. Hue is typically represented in Degrees for a reason- it's a polar space, not a linear one.\n",
        "\n",
        "I want to figure out if there's a better way to represent this for Machine Learning processes, but this is the best I've got so far. As we'll see in a second a Gaussian Process can still make sense of this, so that's cool"
      ]
    },
    {
      "cell_type": "markdown",
      "metadata": {
        "id": "pdj8vjzL2fiq"
      },
      "source": [
        "![image.png](data:image/png;base64,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)"
      ]
    },
    {
      "cell_type": "code",
      "execution_count": null,
      "metadata": {
        "id": "JcNuHAKufSJY"
      },
      "outputs": [],
      "source": [
        "\n",
        "result = gp_minimize(objective_function,\n",
        "                      dimensions=space,\n",
        "                      n_calls=100,\n",
        "                      n_random_starts=5,\n",
        "                      acq_func=\"LCB\",\n",
        "                      acq_optimizer=\"auto\",\n",
        "                      callback=[callback]\n",
        "                  )\n",
        "x0 = result.x_iters\n",
        "y0 = result.func_vals"
      ]
    },
    {
      "cell_type": "code",
      "execution_count": 24,
      "metadata": {
        "colab": {
          "base_uri": "https://localhost:8080/",
          "height": 88
        },
        "id": "O6XpmnYUuUCY",
        "outputId": "cbc60418-1c46-484b-fbae-192410f58726"
      },
      "outputs": [
        {
          "name": "stdout",
          "output_type": "stream",
          "text": [
            "Minimum of objective function: -0.005383975419532047\n",
            "Optimal parameters: [0.8741500406886817, 0.37, 100.7201815207079]\n",
            "rgb(254.84 208.96 0)\n"
          ]
        },
        {
          "data": {
            "text/html": [
              "<span style=\"color:#ffd100; background-color:#313338; padding-inline:10px\">#ffd100</span>"
            ],
            "text/plain": [
              "<IPython.core.display.HTML object>"
            ]
          },
          "metadata": {},
          "output_type": "display_data"
        }
      ],
      "source": [
        "# Print the found minimum\n",
        "print(\"Minimum of objective function:\", result.fun)\n",
        "print(\"Optimal parameters:\", result.x)\n",
        "\n",
        "out_color = Color('oklch', result.x).fit('srgb').convert('srgb')\n",
        "print(out_color.to_string())\n",
        "print_color(out_color)"
      ]
    },
    {
      "cell_type": "markdown",
      "metadata": {
        "id": "rDwHekiP48so"
      },
      "source": [
        "We end up at basically the same result- a bright yellow. It's cutting a bit close to the orange input color: `oklch(0.76092 0.15759 80.036)`, but this set is pretty challenging to find new colors for, so this is a pretty solid end result overall.\n",
        "\n",
        "This came out pretty good off-rip for this example, but in some cases it'll give a ugly color, in which case I just have to manually change things around until it looks nice.\n",
        "\n",
        "I want to mess around more with using the OKLCH color space and machine learning together- OKLCH is built to be intuitive and consistent, which notably is also helpful for ML models to make sense of the numbers they're getting. The challenge comes from representing Hue in a way that's at least *roughly* linear. In any case, that's a project for another time."
      ]
    }
  ],
  "metadata": {
    "colab": {
      "provenance": []
    },
    "kernelspec": {
      "display_name": "Python 3",
      "name": "python3"
    },
    "language_info": {
      "name": "python"
    }
  },
  "nbformat": 4,
  "nbformat_minor": 0
}
